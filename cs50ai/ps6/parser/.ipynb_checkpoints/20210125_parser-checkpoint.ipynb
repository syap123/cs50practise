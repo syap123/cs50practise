{
 "cells": [
  {
   "cell_type": "code",
   "execution_count": 1,
   "metadata": {},
   "outputs": [],
   "source": [
    "import nltk\n",
    "import sys\n",
    "\n",
    "TERMINALS = \"\"\"\n",
    "Adj -> \"country\" | \"dreadful\" | \"enigmatical\" | \"little\" | \"moist\" | \"red\"\n",
    "Adv -> \"down\" | \"here\" | \"never\"\n",
    "Conj -> \"and\" | \"until\"\n",
    "Det -> \"a\" | \"an\" | \"his\" | \"my\" | \"the\"\n",
    "N -> \"armchair\" | \"companion\" | \"day\" | \"door\" | \"hand\" | \"he\" | \"himself\"\n",
    "N -> \"holmes\" | \"home\" | \"i\" | \"mess\" | \"paint\" | \"palm\" | \"pipe\" | \"she\"\n",
    "N -> \"smile\" | \"thursday\" | \"walk\" | \"we\" | \"word\"\n",
    "P -> \"at\" | \"before\" | \"in\" | \"of\" | \"on\" | \"to\"\n",
    "V -> \"arrived\" | \"came\" | \"chuckled\" | \"had\" | \"lit\" | \"said\" | \"sat\"\n",
    "V -> \"smiled\" | \"tell\" | \"were\"\n",
    "\"\"\"\n",
    "\n",
    "NONTERMINALS = \"\"\"\n",
    "S -> NP VP | S Conj S | S Conj VP\n",
    "PP -> P NP\n",
    "NP -> N | Adj NP | Det NP | NP PP\n",
    "VP -> V | VP NP | VP Adv | Adv VP | VP PP\n",
    "\n",
    "\"\"\"\n",
    "\n",
    "grammar = nltk.CFG.fromstring(NONTERMINALS + TERMINALS)\n",
    "parser = nltk.ChartParser(grammar)\n",
    "\n",
    "\n",
    "def main():\n",
    "\n",
    "    # If filename specified, read sentence from file\n",
    "    if len(sys.argv) == 2:\n",
    "        with open(sys.argv[1]) as f:\n",
    "            s = f.read()\n",
    "\n",
    "    # Otherwise, get sentence as input\n",
    "    else:\n",
    "        s = input(\"Sentence: \")\n",
    "\n",
    "    # Convert input into list of words\n",
    "    s = preprocess(s)\n",
    "\n",
    "    # Attempt to parse sentence\n",
    "    try:\n",
    "        trees = list(parser.parse(s))\n",
    "    except ValueError as e:\n",
    "        print(e)\n",
    "        return\n",
    "    if not trees:\n",
    "        print(\"Could not parse sentence.\")\n",
    "        return\n",
    "\n",
    "    # Print each tree with noun phrase chunks\n",
    "    for tree in trees:\n",
    "        tree.pretty_print()\n",
    "\n",
    "        print(\"Noun Phrase Chunks\")\n",
    "        for np in np_chunk(tree):\n",
    "            print(\" \".join(np.flatten()))\n",
    "\n",
    "\n",
    "def preprocess(sentence):\n",
    "    \"\"\"\n",
    "    Convert `sentence` to a list of its words.\n",
    "    Pre-process sentence by converting all characters to lowercase\n",
    "    and removing any word that does not contain at least one alphabetic\n",
    "    character.\n",
    "    \"\"\"\n",
    "    words = nltk.word_tokenize(sentence)\n",
    "    processed_words = []\n",
    "    for word in words:\n",
    "        alphanumeric_count = 0\n",
    "        clean_word = []\n",
    "        for char in word:\n",
    "            if char.isalnum():\n",
    "                alphanumeric_count = alphanumeric_count + 1\n",
    "                clean_word.append(char)\n",
    "        clean_word = ''.join(clean_word)\n",
    "        if alphanumeric_count > 0:\n",
    "            processed_words.append(clean_word.lower())\n",
    "    return processed_words\n",
    "\n",
    "\n",
    "def np_chunk(tree):\n",
    "    \"\"\"\n",
    "    Return a list of all noun phrase chunks in the sentence tree.\n",
    "    A noun phrase chunk is defined as any subtree of the sentence\n",
    "    whose label is \"NP\" that does not itself contain any other\n",
    "    noun phrases as subtrees.\n",
    "    \"\"\"\n",
    "    return []\n",
    "\n",
    "\n"
   ]
  },
  {
   "cell_type": "code",
   "execution_count": 53,
   "metadata": {},
   "outputs": [],
   "source": [
    "s = 'I had a country walk on Thursday and came home in a dreadful mess.'\n",
    "s = preprocess(s)\n",
    "\n",
    "# Attempt to parse sentence\n",
    "try:\n",
    "    trees = list(parser.parse(s))\n",
    "except ValueError as e:\n",
    "    print(e)\n",
    "\n",
    "if not trees:\n",
    "    print(\"Could not parse sentence.\")\n"
   ]
  },
  {
   "cell_type": "code",
   "execution_count": 54,
   "metadata": {},
   "outputs": [
    {
     "data": {
      "text/plain": [
       "[Tree('S', [Tree('S', [Tree('NP', [Tree('N', ['i'])]), Tree('VP', [Tree('VP', [Tree('VP', [Tree('V', ['had'])]), Tree('NP', [Tree('Det', ['a']), Tree('NP', [Tree('Adj', ['country']), Tree('NP', [Tree('N', ['walk'])])])])]), Tree('PP', [Tree('P', ['on']), Tree('NP', [Tree('N', ['thursday'])])])])]), Tree('Conj', ['and']), Tree('VP', [Tree('VP', [Tree('VP', [Tree('V', ['came'])]), Tree('NP', [Tree('N', ['home'])])]), Tree('PP', [Tree('P', ['in']), Tree('NP', [Tree('Det', ['a']), Tree('NP', [Tree('Adj', ['dreadful']), Tree('NP', [Tree('N', ['mess'])])])])])])]),\n",
       " Tree('S', [Tree('S', [Tree('NP', [Tree('N', ['i'])]), Tree('VP', [Tree('VP', [Tree('V', ['had'])]), Tree('NP', [Tree('NP', [Tree('Det', ['a']), Tree('NP', [Tree('Adj', ['country']), Tree('NP', [Tree('N', ['walk'])])])]), Tree('PP', [Tree('P', ['on']), Tree('NP', [Tree('N', ['thursday'])])])])])]), Tree('Conj', ['and']), Tree('VP', [Tree('VP', [Tree('VP', [Tree('V', ['came'])]), Tree('NP', [Tree('N', ['home'])])]), Tree('PP', [Tree('P', ['in']), Tree('NP', [Tree('Det', ['a']), Tree('NP', [Tree('Adj', ['dreadful']), Tree('NP', [Tree('N', ['mess'])])])])])])]),\n",
       " Tree('S', [Tree('S', [Tree('NP', [Tree('N', ['i'])]), Tree('VP', [Tree('VP', [Tree('V', ['had'])]), Tree('NP', [Tree('Det', ['a']), Tree('NP', [Tree('NP', [Tree('Adj', ['country']), Tree('NP', [Tree('N', ['walk'])])]), Tree('PP', [Tree('P', ['on']), Tree('NP', [Tree('N', ['thursday'])])])])])])]), Tree('Conj', ['and']), Tree('VP', [Tree('VP', [Tree('VP', [Tree('V', ['came'])]), Tree('NP', [Tree('N', ['home'])])]), Tree('PP', [Tree('P', ['in']), Tree('NP', [Tree('Det', ['a']), Tree('NP', [Tree('Adj', ['dreadful']), Tree('NP', [Tree('N', ['mess'])])])])])])]),\n",
       " Tree('S', [Tree('S', [Tree('NP', [Tree('N', ['i'])]), Tree('VP', [Tree('VP', [Tree('V', ['had'])]), Tree('NP', [Tree('Det', ['a']), Tree('NP', [Tree('Adj', ['country']), Tree('NP', [Tree('NP', [Tree('N', ['walk'])]), Tree('PP', [Tree('P', ['on']), Tree('NP', [Tree('N', ['thursday'])])])])])])])]), Tree('Conj', ['and']), Tree('VP', [Tree('VP', [Tree('VP', [Tree('V', ['came'])]), Tree('NP', [Tree('N', ['home'])])]), Tree('PP', [Tree('P', ['in']), Tree('NP', [Tree('Det', ['a']), Tree('NP', [Tree('Adj', ['dreadful']), Tree('NP', [Tree('N', ['mess'])])])])])])]),\n",
       " Tree('S', [Tree('S', [Tree('NP', [Tree('N', ['i'])]), Tree('VP', [Tree('VP', [Tree('VP', [Tree('V', ['had'])]), Tree('NP', [Tree('Det', ['a']), Tree('NP', [Tree('Adj', ['country']), Tree('NP', [Tree('N', ['walk'])])])])]), Tree('PP', [Tree('P', ['on']), Tree('NP', [Tree('N', ['thursday'])])])])]), Tree('Conj', ['and']), Tree('VP', [Tree('VP', [Tree('V', ['came'])]), Tree('NP', [Tree('NP', [Tree('N', ['home'])]), Tree('PP', [Tree('P', ['in']), Tree('NP', [Tree('Det', ['a']), Tree('NP', [Tree('Adj', ['dreadful']), Tree('NP', [Tree('N', ['mess'])])])])])])])]),\n",
       " Tree('S', [Tree('S', [Tree('NP', [Tree('N', ['i'])]), Tree('VP', [Tree('VP', [Tree('V', ['had'])]), Tree('NP', [Tree('NP', [Tree('Det', ['a']), Tree('NP', [Tree('Adj', ['country']), Tree('NP', [Tree('N', ['walk'])])])]), Tree('PP', [Tree('P', ['on']), Tree('NP', [Tree('N', ['thursday'])])])])])]), Tree('Conj', ['and']), Tree('VP', [Tree('VP', [Tree('V', ['came'])]), Tree('NP', [Tree('NP', [Tree('N', ['home'])]), Tree('PP', [Tree('P', ['in']), Tree('NP', [Tree('Det', ['a']), Tree('NP', [Tree('Adj', ['dreadful']), Tree('NP', [Tree('N', ['mess'])])])])])])])]),\n",
       " Tree('S', [Tree('S', [Tree('NP', [Tree('N', ['i'])]), Tree('VP', [Tree('VP', [Tree('V', ['had'])]), Tree('NP', [Tree('Det', ['a']), Tree('NP', [Tree('NP', [Tree('Adj', ['country']), Tree('NP', [Tree('N', ['walk'])])]), Tree('PP', [Tree('P', ['on']), Tree('NP', [Tree('N', ['thursday'])])])])])])]), Tree('Conj', ['and']), Tree('VP', [Tree('VP', [Tree('V', ['came'])]), Tree('NP', [Tree('NP', [Tree('N', ['home'])]), Tree('PP', [Tree('P', ['in']), Tree('NP', [Tree('Det', ['a']), Tree('NP', [Tree('Adj', ['dreadful']), Tree('NP', [Tree('N', ['mess'])])])])])])])]),\n",
       " Tree('S', [Tree('S', [Tree('NP', [Tree('N', ['i'])]), Tree('VP', [Tree('VP', [Tree('V', ['had'])]), Tree('NP', [Tree('Det', ['a']), Tree('NP', [Tree('Adj', ['country']), Tree('NP', [Tree('NP', [Tree('N', ['walk'])]), Tree('PP', [Tree('P', ['on']), Tree('NP', [Tree('N', ['thursday'])])])])])])])]), Tree('Conj', ['and']), Tree('VP', [Tree('VP', [Tree('V', ['came'])]), Tree('NP', [Tree('NP', [Tree('N', ['home'])]), Tree('PP', [Tree('P', ['in']), Tree('NP', [Tree('Det', ['a']), Tree('NP', [Tree('Adj', ['dreadful']), Tree('NP', [Tree('N', ['mess'])])])])])])])])]"
      ]
     },
     "execution_count": 54,
     "metadata": {},
     "output_type": "execute_result"
    }
   ],
   "source": [
    "trees"
   ]
  },
  {
   "cell_type": "code",
   "execution_count": 55,
   "metadata": {},
   "outputs": [
    {
     "data": {
      "text/plain": [
       "'S'"
      ]
     },
     "execution_count": 55,
     "metadata": {},
     "output_type": "execute_result"
    }
   ],
   "source": [
    "trees[1].label()"
   ]
  },
  {
   "cell_type": "code",
   "execution_count": 61,
   "metadata": {},
   "outputs": [
    {
     "name": "stdout",
     "output_type": "stream",
     "text": [
      "(NP (N i))\n",
      "(NP (Det a) (NP (Adj country) (NP (N walk))))\n",
      "(NP (Adj country) (NP (N walk)))\n",
      "(NP (N walk))\n",
      "(NP (N thursday))\n",
      "(NP (N home))\n",
      "(NP (Det a) (NP (Adj dreadful) (NP (N mess))))\n",
      "(NP (Adj dreadful) (NP (N mess)))\n",
      "(NP (N mess))\n"
     ]
    }
   ],
   "source": [
    "subs = trees[0].subtrees()\n",
    "for s in subs:\n",
    "    if s.label() == 'NP':\n",
    "        contain_subtrees = False\n",
    "        for s2 in s.subtrees():\n",
    "            if s2.label() == 'NP':\n",
    "                contain_subtrees = True\n",
    "        #if contain_subtrees == False:\n",
    "        print(s)"
   ]
  },
  {
   "cell_type": "code",
   "execution_count": 63,
   "metadata": {},
   "outputs": [],
   "source": [
    "\n",
    "def subtree_np_check(subtree):\n",
    "    if subtree.label() != 'NP':\n",
    "        return False\n",
    "    for s in subtree.subtrees():\n",
    "        if s.label() == 'NP':\n",
    "            if s.label() == 'N':\n",
    "                print(s)\n",
    "                return False\n",
    "            else:\n",
    "                return True\n",
    "        else:\n",
    "            subtree_np_check(s)\n",
    "    return False"
   ]
  },
  {
   "cell_type": "code",
   "execution_count": 58,
   "metadata": {},
   "outputs": [],
   "source": [
    "subs = trees[0].subtrees()\n"
   ]
  },
  {
   "cell_type": "code",
   "execution_count": 59,
   "metadata": {},
   "outputs": [
    {
     "data": {
      "text/plain": [
       "False"
      ]
     },
     "execution_count": 59,
     "metadata": {},
     "output_type": "execute_result"
    }
   ],
   "source": [
    "subtree_np_check(trees[0])"
   ]
  },
  {
   "cell_type": "code",
   "execution_count": 60,
   "metadata": {},
   "outputs": [
    {
     "name": "stdout",
     "output_type": "stream",
     "text": [
      "['i']\n",
      "['walk']\n",
      "['thursday']\n",
      "['home']\n",
      "['mess']\n"
     ]
    }
   ],
   "source": [
    "subs = trees[0].subtrees()\n"
   ]
  },
  {
   "cell_type": "code",
   "execution_count": 34,
   "metadata": {},
   "outputs": [
    {
     "data": {
      "text/plain": [
       "<generator object Tree.subtrees at 0x7fee4ebd3c50>"
      ]
     },
     "execution_count": 34,
     "metadata": {},
     "output_type": "execute_result"
    }
   ],
   "source": [
    "subs"
   ]
  },
  {
   "cell_type": "code",
   "execution_count": 35,
   "metadata": {},
   "outputs": [],
   "source": [
    "for s in subs:\n",
    "    print(s)"
   ]
  },
  {
   "cell_type": "code",
   "execution_count": 64,
   "metadata": {},
   "outputs": [
    {
     "name": "stdout",
     "output_type": "stream",
     "text": [
      "True\n",
      "(NP (N i))\n",
      "True\n",
      "(NP (Det a) (NP (Adj country) (NP (N walk))))\n",
      "True\n",
      "(NP (Adj country) (NP (N walk)))\n",
      "True\n",
      "(NP (N walk))\n",
      "True\n",
      "(NP (N thursday))\n",
      "True\n",
      "(NP (N home))\n",
      "True\n",
      "(NP (Det a) (NP (Adj dreadful) (NP (N mess))))\n",
      "True\n",
      "(NP (Adj dreadful) (NP (N mess)))\n",
      "True\n",
      "(NP (N mess))\n"
     ]
    }
   ],
   "source": [
    "subs = trees[0].subtrees()\n",
    "for s in subs:\n",
    "    if s.label() == 'NP':\n",
    "        print(subtree_np_check(s))\n",
    "        \n",
    "        #if contain_subtrees == False:\n",
    "        print(s)"
   ]
  },
  {
   "cell_type": "code",
   "execution_count": null,
   "metadata": {},
   "outputs": [],
   "source": []
  }
 ],
 "metadata": {
  "kernelspec": {
   "display_name": "Python 3",
   "language": "python",
   "name": "python3"
  },
  "language_info": {
   "codemirror_mode": {
    "name": "ipython",
    "version": 3
   },
   "file_extension": ".py",
   "mimetype": "text/x-python",
   "name": "python",
   "nbconvert_exporter": "python",
   "pygments_lexer": "ipython3",
   "version": "3.7.4"
  }
 },
 "nbformat": 4,
 "nbformat_minor": 2
}
