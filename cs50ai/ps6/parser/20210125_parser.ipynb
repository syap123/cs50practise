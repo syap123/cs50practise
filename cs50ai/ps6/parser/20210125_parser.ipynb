{
 "cells": [
  {
   "cell_type": "code",
   "execution_count": 1,
   "metadata": {},
   "outputs": [],
   "source": [
    "import nltk\n",
    "import sys\n",
    "\n",
    "TERMINALS = \"\"\"\n",
    "Adj -> \"country\" | \"dreadful\" | \"enigmatical\" | \"little\" | \"moist\" | \"red\"\n",
    "Adv -> \"down\" | \"here\" | \"never\"\n",
    "Conj -> \"and\" | \"until\"\n",
    "Det -> \"a\" | \"an\" | \"his\" | \"my\" | \"the\"\n",
    "N -> \"armchair\" | \"companion\" | \"day\" | \"door\" | \"hand\" | \"he\" | \"himself\"\n",
    "N -> \"holmes\" | \"home\" | \"i\" | \"mess\" | \"paint\" | \"palm\" | \"pipe\" | \"she\"\n",
    "N -> \"smile\" | \"thursday\" | \"walk\" | \"we\" | \"word\"\n",
    "P -> \"at\" | \"before\" | \"in\" | \"of\" | \"on\" | \"to\"\n",
    "V -> \"arrived\" | \"came\" | \"chuckled\" | \"had\" | \"lit\" | \"said\" | \"sat\"\n",
    "V -> \"smiled\" | \"tell\" | \"were\"\n",
    "\"\"\"\n",
    "\n",
    "NONTERMINALS = \"\"\"\n",
    "S -> NP VP | S Conj S | S Conj VP\n",
    "PP -> P NP\n",
    "NP -> N | Adj NP | Det NP | NP PP\n",
    "VP -> V | VP NP | VP Adv | Adv VP | VP PP\n",
    "\n",
    "\"\"\"\n",
    "\n",
    "grammar = nltk.CFG.fromstring(NONTERMINALS + TERMINALS)\n",
    "parser = nltk.ChartParser(grammar)\n",
    "\n",
    "\n",
    "def main():\n",
    "\n",
    "    # If filename specified, read sentence from file\n",
    "    if len(sys.argv) == 2:\n",
    "        with open(sys.argv[1]) as f:\n",
    "            s = f.read()\n",
    "\n",
    "    # Otherwise, get sentence as input\n",
    "    else:\n",
    "        s = input(\"Sentence: \")\n",
    "\n",
    "    # Convert input into list of words\n",
    "    s = preprocess(s)\n",
    "\n",
    "    # Attempt to parse sentence\n",
    "    try:\n",
    "        trees = list(parser.parse(s))\n",
    "    except ValueError as e:\n",
    "        print(e)\n",
    "        return\n",
    "    if not trees:\n",
    "        print(\"Could not parse sentence.\")\n",
    "        return\n",
    "\n",
    "    # Print each tree with noun phrase chunks\n",
    "    for tree in trees:\n",
    "        tree.pretty_print()\n",
    "\n",
    "        print(\"Noun Phrase Chunks\")\n",
    "        for np in np_chunk(tree):\n",
    "            print(\" \".join(np.flatten()))\n",
    "\n",
    "\n",
    "def preprocess(sentence):\n",
    "    \"\"\"\n",
    "    Convert `sentence` to a list of its words.\n",
    "    Pre-process sentence by converting all characters to lowercase\n",
    "    and removing any word that does not contain at least one alphabetic\n",
    "    character.\n",
    "    \"\"\"\n",
    "    words = nltk.word_tokenize(sentence)\n",
    "    processed_words = []\n",
    "    for word in words:\n",
    "        alphanumeric_count = 0\n",
    "        clean_word = []\n",
    "        for char in word:\n",
    "            if char.isalnum():\n",
    "                alphanumeric_count = alphanumeric_count + 1\n",
    "                clean_word.append(char)\n",
    "        clean_word = ''.join(clean_word)\n",
    "        if alphanumeric_count > 0:\n",
    "            processed_words.append(clean_word.lower())\n",
    "    return processed_words\n",
    "\n",
    "\n",
    "def np_chunk(tree):\n",
    "    \"\"\"\n",
    "    Return a list of all noun phrase chunks in the sentence tree.\n",
    "    A noun phrase chunk is defined as any subtree of the sentence\n",
    "    whose label is \"NP\" that does not itself contain any other\n",
    "    noun phrases as subtrees.\n",
    "    \"\"\"\n",
    "    return []\n",
    "\n",
    "\n"
   ]
  },
  {
   "cell_type": "code",
   "execution_count": 73,
   "metadata": {},
   "outputs": [],
   "source": [
    "s = 'Holmes lit a pipe'\n",
    "s = preprocess(s)\n",
    "\n",
    "# Attempt to parse sentence\n",
    "try:\n",
    "    trees = list(parser.parse(s))\n",
    "except ValueError as e:\n",
    "    print(e)\n",
    "\n",
    "if not trees:\n",
    "    print(\"Could not parse sentence.\")\n"
   ]
  },
  {
   "cell_type": "code",
   "execution_count": 74,
   "metadata": {},
   "outputs": [
    {
     "data": {
      "text/plain": [
       "[Tree('S', [Tree('NP', [Tree('N', ['holmes'])]), Tree('VP', [Tree('VP', [Tree('V', ['lit'])]), Tree('NP', [Tree('Det', ['a']), Tree('NP', [Tree('N', ['pipe'])])])])])]"
      ]
     },
     "execution_count": 74,
     "metadata": {},
     "output_type": "execute_result"
    }
   ],
   "source": [
    "trees"
   ]
  },
  {
   "cell_type": "code",
   "execution_count": 75,
   "metadata": {},
   "outputs": [
    {
     "ename": "IndexError",
     "evalue": "list index out of range",
     "output_type": "error",
     "traceback": [
      "\u001b[0;31m---------------------------------------------------------------------------\u001b[0m",
      "\u001b[0;31mIndexError\u001b[0m                                Traceback (most recent call last)",
      "\u001b[0;32m<ipython-input-75-cf7214fe03d4>\u001b[0m in \u001b[0;36m<module>\u001b[0;34m\u001b[0m\n\u001b[0;32m----> 1\u001b[0;31m \u001b[0mtrees\u001b[0m\u001b[0;34m[\u001b[0m\u001b[0;36m1\u001b[0m\u001b[0;34m]\u001b[0m\u001b[0;34m.\u001b[0m\u001b[0mlabel\u001b[0m\u001b[0;34m(\u001b[0m\u001b[0;34m)\u001b[0m\u001b[0;34m\u001b[0m\u001b[0;34m\u001b[0m\u001b[0m\n\u001b[0m",
      "\u001b[0;31mIndexError\u001b[0m: list index out of range"
     ]
    }
   ],
   "source": [
    "trees[1].label()"
   ]
  },
  {
   "cell_type": "code",
   "execution_count": 108,
   "metadata": {},
   "outputs": [],
   "source": [
    "subs = trees[0].subtrees(lambda s: s.height() == 0)\n",
    "for s in subs:\n",
    "    for s in sub.subtrees(lambda s: s.height() == 3):\n",
    "        if s.label() == 'NP':\n",
    "            contain_subtrees = False\n",
    "            for s2 in s.subtrees():\n",
    "                if s2.label() == 'NP':\n",
    "                    contain_subtrees = True\n",
    "            #if contain_subtrees == False:\n",
    "            print(s)"
   ]
  },
  {
   "cell_type": "code",
   "execution_count": 77,
   "metadata": {},
   "outputs": [],
   "source": [
    "\n",
    "def is_np_chunk(tree):\n",
    "    \"\"\"\n",
    "    Returns true if given tree is a NP chunk.\n",
    "    A noun phrase chunk is defined as any subtree of the sentence\n",
    "    whose label is \"NP\" that does not itself contain any other\n",
    "    noun phrases as subtrees.\n",
    "    \"\"\"\n",
    "    if tree.label() == 'NP' and \\\n",
    "            not list(tree.subtrees(lambda t: t.label() == 'NP' and t != tree)):\n",
    "        return True\n",
    "    else:\n",
    "        return False"
   ]
  },
  {
   "cell_type": "code",
   "execution_count": 78,
   "metadata": {},
   "outputs": [],
   "source": [
    "subs = trees[0].subtrees()\n"
   ]
  },
  {
   "cell_type": "code",
   "execution_count": 79,
   "metadata": {},
   "outputs": [
    {
     "data": {
      "text/plain": [
       "False"
      ]
     },
     "execution_count": 79,
     "metadata": {},
     "output_type": "execute_result"
    }
   ],
   "source": [
    "subtree_np_check(trees[0])"
   ]
  },
  {
   "cell_type": "code",
   "execution_count": 80,
   "metadata": {},
   "outputs": [],
   "source": [
    "subs = trees[0].subtrees()\n"
   ]
  },
  {
   "cell_type": "code",
   "execution_count": 81,
   "metadata": {},
   "outputs": [
    {
     "data": {
      "text/plain": [
       "<generator object Tree.subtrees at 0x7fee528f0f50>"
      ]
     },
     "execution_count": 81,
     "metadata": {},
     "output_type": "execute_result"
    }
   ],
   "source": [
    "subs"
   ]
  },
  {
   "cell_type": "code",
   "execution_count": 94,
   "metadata": {},
   "outputs": [
    {
     "name": "stdout",
     "output_type": "stream",
     "text": [
      "(VP (VP (V lit)) (NP (Det a) (NP (N pipe))))\n",
      "     VP         \n",
      "  ___|___        \n",
      " |       NP     \n",
      " |    ___|___    \n",
      " VP  |       NP \n",
      " |   |       |   \n",
      " V  Det      N  \n",
      " |   |       |   \n",
      "lit  a      pipe\n",
      "\n",
      "(VP (V lit))\n",
      " VP\n",
      " |  \n",
      " V \n",
      " |  \n",
      "lit\n",
      "\n",
      "(V lit)\n",
      " V \n",
      " |  \n",
      "lit\n",
      "\n",
      "(NP (Det a) (NP (N pipe)))\n",
      "     NP     \n",
      "  ___|___    \n",
      " |       NP \n",
      " |       |   \n",
      "Det      N  \n",
      " |       |   \n",
      " a      pipe\n",
      "\n",
      "(Det a)\n",
      "Det\n",
      " |  \n",
      " a \n",
      "\n",
      "(NP (N pipe))\n",
      " NP \n",
      " |   \n",
      " N  \n",
      " |   \n",
      "pipe\n",
      "\n",
      "(N pipe)\n",
      " N  \n",
      " |   \n",
      "pipe\n",
      "\n"
     ]
    }
   ],
   "source": [
    "subs = trees[0].subtrees()\n",
    "\n",
    "i = 0\n",
    "for s in subs:\n",
    "    if i == 3:\n",
    "        s2s = s.subtrees()\n",
    "        for s2 in s2s:\n",
    "            print(s2)\n",
    "            s2.pretty_print()\n",
    "    i = i + 1\n",
    "    #print(s)"
   ]
  },
  {
   "cell_type": "code",
   "execution_count": 88,
   "metadata": {},
   "outputs": [
    {
     "name": "stdout",
     "output_type": "stream",
     "text": [
      "this is here\n",
      "(NP (N holmes))\n",
      "True\n",
      "(NP (N holmes))\n",
      "this is here\n",
      "(NP (Det a) (NP (N pipe)))\n",
      "True\n",
      "(NP (Det a) (NP (N pipe)))\n",
      "this is here\n",
      "(NP (N pipe))\n",
      "True\n",
      "(NP (N pipe))\n"
     ]
    }
   ],
   "source": [
    "subs = trees[0].subtrees()\n",
    "for s in subs:\n",
    "    if s.label() == 'NP':\n",
    "        print(subtree_np_check(s))\n",
    "        \n",
    "        #if contain_subtrees == False:\n",
    "        print(s)"
   ]
  },
  {
   "cell_type": "code",
   "execution_count": null,
   "metadata": {},
   "outputs": [],
   "source": []
  }
 ],
 "metadata": {
  "kernelspec": {
   "display_name": "Python 3",
   "language": "python",
   "name": "python3"
  },
  "language_info": {
   "codemirror_mode": {
    "name": "ipython",
    "version": 3
   },
   "file_extension": ".py",
   "mimetype": "text/x-python",
   "name": "python",
   "nbconvert_exporter": "python",
   "pygments_lexer": "ipython3",
   "version": "3.7.4"
  }
 },
 "nbformat": 4,
 "nbformat_minor": 2
}
