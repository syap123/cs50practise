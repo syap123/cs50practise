{
 "cells": [
  {
   "cell_type": "code",
   "execution_count": 1,
   "metadata": {},
   "outputs": [],
   "source": [
    "import pickle\n"
   ]
  },
  {
   "cell_type": "code",
   "execution_count": 2,
   "metadata": {},
   "outputs": [],
   "source": [
    "with open('knowledge_45', 'rb') as f:\n",
    "    k_45 = pickle.load(f)"
   ]
  },
  {
   "cell_type": "code",
   "execution_count": 3,
   "metadata": {},
   "outputs": [],
   "source": [
    "def open_knowledge(num):\n",
    "    with open('knowledge_'+str(num), 'rb') as f:\n",
    "        return pickle.load(f)"
   ]
  },
  {
   "cell_type": "code",
   "execution_count": 4,
   "metadata": {},
   "outputs": [],
   "source": [
    "k_44 = open_knowledge(44)"
   ]
  },
  {
   "cell_type": "code",
   "execution_count": 10,
   "metadata": {},
   "outputs": [
    {
     "name": "stdout",
     "output_type": "stream",
     "text": [
      "{(0, 4)}\n",
      "1\n",
      "18\n",
      "{(0, 4)}\n",
      "1\n",
      "24\n",
      "{(1, 5), (0, 5), (0, 4)}\n",
      "1\n",
      "35\n",
      "{(0, 5), (0, 4)}\n",
      "1\n",
      "51\n",
      "{(1, 5), (0, 4)}\n",
      "1\n",
      "53\n"
     ]
    }
   ],
   "source": [
    "i = 0\n",
    "for s in k_44:\n",
    "    i = i + 1\n",
    "    if (0,4) in s.cells:\n",
    "        print(s.cells)\n",
    "        print(s.count)\n",
    "        print(i)"
   ]
  },
  {
   "cell_type": "code",
   "execution_count": 11,
   "metadata": {},
   "outputs": [
    {
     "name": "stdout",
     "output_type": "stream",
     "text": [
      "{(0, 4)}\n",
      "1\n",
      "18\n",
      "{(0, 4)}\n",
      "1\n",
      "24\n",
      "{(1, 5), (0, 5), (0, 4)}\n",
      "1\n",
      "35\n",
      "{(0, 5), (0, 4)}\n",
      "1\n",
      "51\n",
      "{(1, 5), (0, 4)}\n",
      "1\n",
      "53\n"
     ]
    }
   ],
   "source": [
    "i = 0\n",
    "for s in k_45:\n",
    "    i = i + 1\n",
    "    if (0,4) in s.cells:\n",
    "        print(s.cells)\n",
    "        print(s.count)\n",
    "        print(i)"
   ]
  },
  {
   "cell_type": "code",
   "execution_count": 12,
   "metadata": {},
   "outputs": [],
   "source": [
    "k_22 = open_knowledge(22)"
   ]
  },
  {
   "cell_type": "code",
   "execution_count": 13,
   "metadata": {},
   "outputs": [
    {
     "data": {
      "text/plain": [
       "{(0, 0),\n",
       " (0, 1),\n",
       " (0, 2),\n",
       " (0, 3),\n",
       " (0, 4),\n",
       " (0, 5),\n",
       " (1, 0),\n",
       " (1, 1),\n",
       " (1, 2),\n",
       " (1, 3),\n",
       " (1, 4),\n",
       " (1, 5),\n",
       " (2, 1),\n",
       " (2, 2),\n",
       " (2, 3),\n",
       " (2, 4),\n",
       " (2, 5),\n",
       " (3, 2),\n",
       " (3, 3),\n",
       " (4, 1),\n",
       " (4, 2),\n",
       " (4, 4)}"
      ]
     },
     "execution_count": 13,
     "metadata": {},
     "output_type": "execute_result"
    }
   ],
   "source": [
    "k_22.moves_made"
   ]
  },
  {
   "cell_type": "code",
   "execution_count": 15,
   "metadata": {},
   "outputs": [],
   "source": [
    "i = 0\n",
    "for s in k_22.knowledge:\n",
    "    i = i + 1\n",
    "    if (0,5) in s.cells:\n",
    "        print(s.cells)\n",
    "        print(s.count)\n",
    "        print(i)"
   ]
  },
  {
   "cell_type": "code",
   "execution_count": 21,
   "metadata": {},
   "outputs": [],
   "source": [
    "check = open_knowledge(19)"
   ]
  },
  {
   "cell_type": "code",
   "execution_count": 22,
   "metadata": {},
   "outputs": [
    {
     "data": {
      "text/plain": [
       "{(0, 0),\n",
       " (0, 1),\n",
       " (0, 2),\n",
       " (0, 3),\n",
       " (0, 4),\n",
       " (1, 1),\n",
       " (1, 2),\n",
       " (1, 3),\n",
       " (1, 4),\n",
       " (1, 5),\n",
       " (2, 1),\n",
       " (2, 2),\n",
       " (2, 3),\n",
       " (2, 4),\n",
       " (2, 5),\n",
       " (3, 2),\n",
       " (3, 3),\n",
       " (4, 1),\n",
       " (4, 4)}"
      ]
     },
     "execution_count": 22,
     "metadata": {},
     "output_type": "execute_result"
    }
   ],
   "source": [
    "check.moves_made"
   ]
  },
  {
   "cell_type": "code",
   "execution_count": 24,
   "metadata": {},
   "outputs": [
    {
     "name": "stdout",
     "output_type": "stream",
     "text": [
      "{(0, 6), (2, 6), (1, 6)}\n",
      "1\n",
      "9\n"
     ]
    }
   ],
   "source": [
    "i = 0\n",
    "for s in check.knowledge:\n",
    "    i = i + 1\n",
    "    if (0,6) in s.cells:\n",
    "        print(s.cells)\n",
    "        print(s.count)\n",
    "        print(i)"
   ]
  },
  {
   "cell_type": "code",
   "execution_count": 25,
   "metadata": {},
   "outputs": [
    {
     "ename": "AttributeError",
     "evalue": "'Sentence' object has no attribute 'adjacent_cells'",
     "output_type": "error",
     "traceback": [
      "\u001b[0;31m---------------------------------------------------------------------------\u001b[0m",
      "\u001b[0;31mAttributeError\u001b[0m                            Traceback (most recent call last)",
      "\u001b[0;32m<ipython-input-25-91f6f77d5934>\u001b[0m in \u001b[0;36m<module>\u001b[0;34m\u001b[0m\n\u001b[0;32m----> 1\u001b[0;31m \u001b[0ms\u001b[0m\u001b[0;34m.\u001b[0m\u001b[0madjacent_cells\u001b[0m\u001b[0;34m(\u001b[0m\u001b[0;34m(\u001b[0m\u001b[0;36m0\u001b[0m\u001b[0;34m,\u001b[0m\u001b[0;36m6\u001b[0m\u001b[0;34m)\u001b[0m\u001b[0;34m)\u001b[0m\u001b[0;34m\u001b[0m\u001b[0;34m\u001b[0m\u001b[0m\n\u001b[0m",
      "\u001b[0;31mAttributeError\u001b[0m: 'Sentence' object has no attribute 'adjacent_cells'"
     ]
    }
   ],
   "source": [
    "s.adjacent_cells((0,6))"
   ]
  },
  {
   "cell_type": "code",
   "execution_count": 26,
   "metadata": {},
   "outputs": [
    {
     "name": "stdout",
     "output_type": "stream",
     "text": [
      "{(0, 6), (2, 6), (1, 6)}\n",
      "1\n",
      "9\n",
      "{(0, 6), (1, 6)}\n",
      "1\n",
      "21\n"
     ]
    }
   ],
   "source": [
    "k_19 = open_knowledge(20)\n",
    "i = 0\n",
    "for s in k_19.knowledge:\n",
    "    i = i + 1\n",
    "    if (0,6) in s.cells:\n",
    "        print(s.cells)\n",
    "        print(s.count)\n",
    "        print(i)"
   ]
  },
  {
   "cell_type": "code",
   "execution_count": 27,
   "metadata": {},
   "outputs": [
    {
     "name": "stdout",
     "output_type": "stream",
     "text": [
      "{(0, 6), (2, 6), (1, 6)}\n",
      "1\n",
      "9\n",
      "{(0, 6), (1, 6)}\n",
      "1\n",
      "21\n"
     ]
    }
   ],
   "source": [
    "k_19 = open_knowledge(21)\n",
    "i = 0\n",
    "for s in k_19.knowledge:\n",
    "    i = i + 1\n",
    "    if (0,6) in s.cells:\n",
    "        print(s.cells)\n",
    "        print(s.count)\n",
    "        print(i)"
   ]
  },
  {
   "cell_type": "code",
   "execution_count": 29,
   "metadata": {},
   "outputs": [],
   "source": [
    "set2 = {(0, 6), (2, 6), (1, 6)}\n",
    "set1 = {(0, 6), (1, 6)}\n",
    "\n"
   ]
  },
  {
   "cell_type": "code",
   "execution_count": 31,
   "metadata": {},
   "outputs": [],
   "source": [
    "s3cells = set2.difference(set1)"
   ]
  },
  {
   "cell_type": "code",
   "execution_count": 32,
   "metadata": {},
   "outputs": [
    {
     "data": {
      "text/plain": [
       "{(2, 6)}"
      ]
     },
     "execution_count": 32,
     "metadata": {},
     "output_type": "execute_result"
    }
   ],
   "source": [
    "s3cells"
   ]
  },
  {
   "cell_type": "code",
   "execution_count": 34,
   "metadata": {},
   "outputs": [
    {
     "data": {
      "text/plain": [
       "set()"
      ]
     },
     "execution_count": 34,
     "metadata": {},
     "output_type": "execute_result"
    }
   ],
   "source": [
    "k_19.mines"
   ]
  },
  {
   "cell_type": "code",
   "execution_count": 94,
   "metadata": {},
   "outputs": [
    {
     "name": "stdout",
     "output_type": "stream",
     "text": [
      "{(1, 0), (1, 1)}\n",
      "1\n",
      "1\n",
      "{(1, 0), (1, 1)}\n",
      "1\n",
      "2\n",
      "set()\n",
      "0\n",
      "3\n",
      "set()\n",
      "0\n",
      "4\n",
      "set()\n",
      "0\n",
      "5\n"
     ]
    }
   ],
   "source": [
    "check = open_knowledge(3)\n",
    "i = 0\n",
    "for s in check.knowledge:\n",
    "    i = i + 1\n",
    "    #if (2,1) in s.cells:\n",
    "    print(s.cells)\n",
    "    print(s.count)\n",
    "    print(i)"
   ]
  },
  {
   "cell_type": "code",
   "execution_count": 95,
   "metadata": {},
   "outputs": [
    {
     "data": {
      "text/plain": [
       "{(0, 0), (0, 1), (0, 2)}"
      ]
     },
     "execution_count": 95,
     "metadata": {},
     "output_type": "execute_result"
    }
   ],
   "source": [
    "check.moves_made"
   ]
  },
  {
   "cell_type": "code",
   "execution_count": 96,
   "metadata": {},
   "outputs": [
    {
     "data": {
      "text/plain": [
       "{(0, 0), (0, 1), (0, 2), (0, 3), (1, 1), (1, 2), (1, 3)}"
      ]
     },
     "execution_count": 96,
     "metadata": {},
     "output_type": "execute_result"
    }
   ],
   "source": [
    "check.safes"
   ]
  },
  {
   "cell_type": "code",
   "execution_count": null,
   "metadata": {},
   "outputs": [],
   "source": []
  }
 ],
 "metadata": {
  "kernelspec": {
   "display_name": "Python 3",
   "language": "python",
   "name": "python3"
  },
  "language_info": {
   "codemirror_mode": {
    "name": "ipython",
    "version": 3
   },
   "file_extension": ".py",
   "mimetype": "text/x-python",
   "name": "python",
   "nbconvert_exporter": "python",
   "pygments_lexer": "ipython3",
   "version": "3.7.4"
  }
 },
 "nbformat": 4,
 "nbformat_minor": 2
}
